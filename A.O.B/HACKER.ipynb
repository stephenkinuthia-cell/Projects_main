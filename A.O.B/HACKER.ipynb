{
 "cells": [
  {
   "cell_type": "markdown",
   "id": "e9a81bdd",
   "metadata": {},
   "source": []
  },
  {
   "cell_type": "code",
   "execution_count": 1,
   "id": "2c24a041",
   "metadata": {},
   "outputs": [
    {
     "name": "stdout",
     "output_type": "stream",
     "text": [
      "🔍 Port Scanner - Localhost (127.0.0.1)\n",
      "Scanning 127.0.0.1 from port 1 to 99...\n",
      "\n",
      "\n",
      "✅ Scan complete.\n"
     ]
    }
   ],
   "source": [
    "import socket\n",
    "\n",
    "print(\"🔍 Port Scanner - Localhost (127.0.0.1)\")\n",
    "target = \"127.0.0.1\"  # Localhost (your own laptop)\n",
    "\n",
    "# You can adjust the port range here\n",
    "start_port = 1\n",
    "end_port = 100\n",
    "\n",
    "print(f\"Scanning {target} from port {start_port} to {end_port - 1}...\\n\")\n",
    "\n",
    "for port in range(start_port, end_port):\n",
    "    s = socket.socket(socket.AF_INET, socket.SOCK_STREAM)\n",
    "    socket.setdefaulttimeout(0.5)  # Timeout in seconds\n",
    "    result = s.connect_ex((target, port))  # Try to connect\n",
    "    if result == 0:\n",
    "        print(f\"✅ Port {port} is OPEN\")\n",
    "    s.close()\n",
    "\n",
    "print(\"\\n✅ Scan complete.\")\n"
   ]
  },
  {
   "cell_type": "markdown",
   "id": "427344c9",
   "metadata": {},
   "source": [
    "mport socket\n",
    "\n",
    "target = input(\"Enter IP address to scan: \")\n",
    "for port in range(1, 100):\n",
    "    s = socket.socket(socket.AF_INET, socket.SOCK_STREAM)\n",
    "    socket.setdefaulttimeout(0.5)\n",
    "    result = s.connect_ex((target, port))\n",
    "    if result == 0:\n",
    "        print(f\"Port {port} is open\")\n",
    "    s.close()"
   ]
  },
  {
   "cell_type": "markdown",
   "id": "d1d0f365",
   "metadata": {},
   "source": []
  },
  {
   "cell_type": "code",
   "execution_count": null,
   "id": "97ca0ad3",
   "metadata": {},
   "outputs": [],
   "source": [
    "# From this code you can get the saved Wi-Fi passwords by running that program\n",
    "import subprocess\n",
    "\n",
    "#Get metadata of your wifi\n",
    "data = subprocess.check_output([\"netsh\", \"wlan\", \"show\", \"profiles\"]).decode('utf-8', errors=\"backslashreplasce\").split(\"\\n\")\n",
    "\n",
    "# Extra available Wi-Fi profiles names\n",
    "profile = []\n",
    "for i in data:\n",
    "    if \"All User Profile\" in i:\n",
    "        profile.append(i.split(\":\")[1][1:-1])\n",
    " \n",
    "for i in profile :\n",
    "    try: # Extract metadata of each profile \n",
    "        results = subprocess.check_output([\"netsh\", \"wlan\", \"show\", \"profiles\", i, \"key=clear\"]).decode(\"utf-8\", errors=\"backslashreplace\").split(\"\\n\")\n",
    "        result = []\n",
    "        \n",
    "        # Extract passwords from that metadata\n",
    "        for b in results:\n",
    "            if \"Key Content\" in b:\n",
    "                result.append(b.split(\":\")[1][1:-1])\n",
    "        # print the password in beaitify way \n",
    "        try:\n",
    "            print(\"{:<30}| {:<}\".format(i, result[0]))\n",
    "        except Exception as e:\n",
    "            print(\"{:<30}| {:<}\".format(i, \"\"))\n",
    "    except Exception as e:\n",
    "        print(\"{:<30}| {:<}\".format(i, \"ERROR OCCURED\"))        \n"
   ]
  }
 ],
 "metadata": {
  "kernelspec": {
   "display_name": ".venv",
   "language": "python",
   "name": "python3"
  },
  "language_info": {
   "codemirror_mode": {
    "name": "ipython",
    "version": 3
   },
   "file_extension": ".py",
   "mimetype": "text/x-python",
   "name": "python",
   "nbconvert_exporter": "python",
   "pygments_lexer": "ipython3",
   "version": "3.11.9"
  }
 },
 "nbformat": 4,
 "nbformat_minor": 5
}
