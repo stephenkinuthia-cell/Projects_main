{
 "cells": [
  {
   "cell_type": "code",
   "execution_count": null,
   "id": "5c029917",
   "metadata": {},
   "outputs": [],
   "source": [
    "# Sample notebook cell\n",
    "import matplotlib.pyplot as plt\n",
    "import numpy as np\n",
    "\n",
    "x = np.linspace(0, 10, 100)\n",
    "y = np.sin(x)\n",
    "\n",
    "plt.plot(x, y)\n",
    "plt.title(\"Sine Wave\")\n",
    "plt.xlabel(\"x\")\n",
    "plt.ylabel(\"sin(x)\")\n",
    "plt.grid(True)\n",
    "plt.show()\n"
   ]
  },
  {
   "cell_type": "code",
   "execution_count": 2,
   "id": "32573495",
   "metadata": {},
   "outputs": [
    {
     "name": "stdout",
     "output_type": "stream",
     "text": [
      "\u001b[31mDocstring:\u001b[39m\n",
      "::\n",
      "\n",
      "  %matplotlib [-l] [gui]\n",
      "\n",
      "Set up matplotlib to work interactively.\n",
      "\n",
      "This function lets you activate matplotlib interactive support\n",
      "at any point during an IPython session. It does not import anything\n",
      "into the interactive namespace.\n",
      "\n",
      "If you are using the inline matplotlib backend in the IPython Notebook\n",
      "you can set which figure formats are enabled using the following::\n",
      "\n",
      "    In [1]: from matplotlib_inline.backend_inline import set_matplotlib_formats\n",
      "\n",
      "    In [2]: set_matplotlib_formats('pdf', 'svg')\n",
      "\n",
      "The default for inline figures sets `bbox_inches` to 'tight'. This can\n",
      "cause discrepancies between the displayed image and the identical\n",
      "image created using `savefig`. This behavior can be disabled using the\n",
      "`%config` magic::\n",
      "\n",
      "    In [3]: %config InlineBackend.print_figure_kwargs = {'bbox_inches':None}\n",
      "\n",
      "In addition, see the docstrings of\n",
      "`matplotlib_inline.backend_inline.set_matplotlib_formats` and\n",
      "`matplotlib_inline.backend_inline.set_matplotlib_close` for more information on\n",
      "changing additional behaviors of the inline backend.\n",
      "\n",
      "Examples\n",
      "--------\n",
      "To enable the inline backend for usage with the IPython Notebook::\n",
      "\n",
      "    In [1]: %matplotlib inline\n",
      "\n",
      "In this case, where the matplotlib default is TkAgg::\n",
      "\n",
      "    In [2]: %matplotlib\n",
      "    Using matplotlib backend: TkAgg\n",
      "\n",
      "But you can explicitly request a different GUI backend::\n",
      "\n",
      "    In [3]: %matplotlib qt\n",
      "\n",
      "You can list the available backends using the -l/--list option::\n",
      "\n",
      "   In [4]: %matplotlib --list\n",
      "   Available matplotlib backends: ['osx', 'qt4', 'qt5', 'gtk3', 'gtk4', 'notebook', 'wx', 'qt', 'nbagg',\n",
      "   'gtk', 'tk', 'inline']\n",
      "\n",
      "positional arguments:\n",
      "  gui         Name of the matplotlib backend to use such as 'qt' or 'widget'.\n",
      "              If given, the corresponding matplotlib backend is used,\n",
      "              otherwise it will be matplotlib's default (which you can set in\n",
      "              your matplotlib config file).\n",
      "\n",
      "options:\n",
      "  -l, --list  Show available matplotlib backends\n",
      "\u001b[31mFile:\u001b[39m      c:\\users\\steve\\onedrive\\desktop\\python\\.venv\\lib\\site-packages\\ipython\\core\\magics\\pylab.py"
     ]
    }
   ],
   "source": [
    "matplotlib?"
   ]
  },
  {
   "cell_type": "code",
   "execution_count": null,
   "id": "dd304eaa",
   "metadata": {},
   "outputs": [],
   "source": []
  }
 ],
 "metadata": {
  "kernelspec": {
   "display_name": ".venv",
   "language": "python",
   "name": "python3"
  },
  "language_info": {
   "codemirror_mode": {
    "name": "ipython",
    "version": 3
   },
   "file_extension": ".py",
   "mimetype": "text/x-python",
   "name": "python",
   "nbconvert_exporter": "python",
   "pygments_lexer": "ipython3",
   "version": "3.11.9"
  }
 },
 "nbformat": 4,
 "nbformat_minor": 5
}
